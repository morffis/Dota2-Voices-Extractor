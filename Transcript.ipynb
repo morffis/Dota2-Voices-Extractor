{
 "cells": [
  {
   "cell_type": "code",
   "execution_count": 1,
   "metadata": {},
   "outputs": [],
   "source": [
    "import time\n",
    "import os\n",
    "import csv"
   ]
  },
  {
   "cell_type": "code",
   "execution_count": 2,
   "metadata": {},
   "outputs": [],
   "source": [
    "def append_transcript(filename, transcript, transcript_path):\n",
    "    row = f'{filename[:-4]}|{transcript}'\n",
    "    with open(transcript_path,'a', newline='') as transcript_file:\n",
    "        writer = csv.writer(transcript_file)\n",
    "        writer.writerow([row])"
   ]
  },
  {
   "cell_type": "code",
   "execution_count": 3,
   "metadata": {},
   "outputs": [],
   "source": [
    "wav_folder = './/wavs'\n",
    "transcript_path = 'transcript.csv'\n",
    "target_hero = \"EarthShaker\""
   ]
  },
  {
   "cell_type": "code",
   "execution_count": 4,
   "metadata": {},
   "outputs": [],
   "source": [
    "counter = 0\n",
    "for file in os.listdir(wav_folder):\n",
    "#file = os.listdir(wav_folder)[0]\n",
    "    counter += 1\n",
    "    target_filename = f'{target_hero}-{str(counter).zfill(4)}.wav'\n",
    "    label = file[:-4]\n",
    "\n",
    "    append_transcript(target_filename,label,transcript_path)\n",
    "\n",
    "    #renaming the file\n",
    "    old_file = os.path.join(wav_folder, file)\n",
    "    new_file = os.path.join(wav_folder, target_filename)\n",
    "    os.rename(old_file, new_file)\n"
   ]
  },
  {
   "cell_type": "code",
   "execution_count": 5,
   "metadata": {},
   "outputs": [],
   "source": [
    "#A better time will present itself..wav"
   ]
  }
 ],
 "metadata": {
  "kernelspec": {
   "display_name": "Python 3",
   "language": "python",
   "name": "python3"
  },
  "language_info": {
   "codemirror_mode": {
    "name": "ipython",
    "version": 3
   },
   "file_extension": ".py",
   "mimetype": "text/x-python",
   "name": "python",
   "nbconvert_exporter": "python",
   "pygments_lexer": "ipython3",
   "version": "3.7.4"
  }
 },
 "nbformat": 4,
 "nbformat_minor": 2
}
