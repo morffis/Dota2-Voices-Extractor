{
 "cells": [
  {
   "cell_type": "code",
   "execution_count": 1,
   "metadata": {},
   "outputs": [
    {
     "name": "stderr",
     "output_type": "stream",
     "text": [
      "c:\\users\\rodrigo sato\\appdata\\local\\programs\\python\\python37\\lib\\site-packages\\pydub\\utils.py:165: RuntimeWarning: Couldn't find ffmpeg or avconv - defaulting to ffmpeg, but may not work\n",
      "  warn(\"Couldn't find ffmpeg or avconv - defaulting to ffmpeg, but may not work\", RuntimeWarning)\n"
     ]
    }
   ],
   "source": [
    "#Selenium\n",
    "from selenium import webdriver\n",
    "from selenium.webdriver.common.by import By\n",
    "from selenium.webdriver.support.ui import WebDriverWait\n",
    "from selenium.webdriver.support import expected_conditions as EC\n",
    "\n",
    "import requests\n",
    "\n",
    "#Audio\n",
    "from pydub import AudioSegment\n",
    "\n",
    "#OS, TIME\n",
    "import time\n",
    "import os"
   ]
  },
  {
   "cell_type": "code",
   "execution_count": 2,
   "metadata": {},
   "outputs": [],
   "source": [
    "def get_audio_source(list_item):\n",
    "    return list_item.find_element_by_xpath(\"span/audio/a\").get_attribute('href')"
   ]
  },
  {
   "cell_type": "code",
   "execution_count": 3,
   "metadata": {},
   "outputs": [],
   "source": [
    "def get_label(list_item):\n",
    "    label = list_item.get_attribute(\"innerHTML\")\n",
    "    closing_tag = \"</span> \"\n",
    "    return label[label.find(closing_tag)+len(closing_tag):]"
   ]
  },
  {
   "cell_type": "code",
   "execution_count": 4,
   "metadata": {},
   "outputs": [],
   "source": [
    "def download_file_from_url(url,full_location):\n",
    "    audio_file = requests.get(file_url)\n",
    "    with open(full_location, 'wb') as download_file:\n",
    "        download_file.write(audio_file.content)"
   ]
  },
  {
   "cell_type": "code",
   "execution_count": 5,
   "metadata": {},
   "outputs": [],
   "source": [
    "def convert_mp3_to_wav(mp3_file_location,wave_file_dest):\n",
    "    sound = AudioSegment.from_mp3(mp3_file_location)\n",
    "    sound.export(wave_file_dest, format=\"wav\")"
   ]
  },
  {
   "cell_type": "code",
   "execution_count": 11,
   "metadata": {},
   "outputs": [],
   "source": [
    "chrome_driver = r\"E:\\Projects\\Dota2 Reponses Extractor\\chromedriver.exe\"\n",
    "URL = \"https://dota2.gamepedia.com/Earthshaker/Responses\"\n",
    "download_folder = r\"E:\\Projects\\Dota2 Reponses Extractor\\wavs\"\n",
    "target_hero = \"EarthShaker\"\n",
    "transcript_file = 'transcript.csv'"
   ]
  },
  {
   "cell_type": "code",
   "execution_count": 7,
   "metadata": {},
   "outputs": [],
   "source": [
    "chrome_options = webdriver.ChromeOptions()\n",
    "prefs = {\"download.default_directory\" : download_folder}\n",
    "chrome_options.add_experimental_option(\"prefs\",prefs)\n",
    "browser = webdriver.Chrome(executable_path=chrome_driver, options=chrome_options)"
   ]
  },
  {
   "cell_type": "code",
   "execution_count": 8,
   "metadata": {},
   "outputs": [],
   "source": [
    "browser.get(URL)"
   ]
  },
  {
   "cell_type": "code",
   "execution_count": 9,
   "metadata": {},
   "outputs": [],
   "source": [
    "list_items = browser.find_elements_by_xpath(\"//li[span[audio]]\")"
   ]
  },
  {
   "cell_type": "code",
   "execution_count": 10,
   "metadata": {},
   "outputs": [],
   "source": [
    "for list_item in list_items:\n",
    "    #print(list_item.get_attribute('innerHTML'))\n",
    "    file_url = get_audio_source(list_item)\n",
    "    #print(file_url)\n",
    "\n",
    "    label = get_label(list_item)\n",
    "    #print(label)\n",
    "    name = label\n",
    "    location = f'.//mp3s/{name}.mp3'\n",
    "    \n",
    "    try:\n",
    "        download_file_from_url(file_url,location)\n",
    "    except:\n",
    "        continue"
   ]
  }
 ],
 "metadata": {
  "kernelspec": {
   "display_name": "Python 3",
   "language": "python",
   "name": "python3"
  },
  "language_info": {
   "codemirror_mode": {
    "name": "ipython",
    "version": 3
   },
   "file_extension": ".py",
   "mimetype": "text/x-python",
   "name": "python",
   "nbconvert_exporter": "python",
   "pygments_lexer": "ipython3",
   "version": "3.7.4"
  }
 },
 "nbformat": 4,
 "nbformat_minor": 2
}
